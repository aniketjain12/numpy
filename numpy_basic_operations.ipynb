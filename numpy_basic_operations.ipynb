{
 "cells": [
  {
   "cell_type": "code",
   "execution_count": 1,
   "id": "23bd85b5",
   "metadata": {},
   "outputs": [],
   "source": [
    "import numpy as np"
   ]
  },
  {
   "cell_type": "code",
   "execution_count": 7,
   "id": "9785a432",
   "metadata": {},
   "outputs": [
    {
     "name": "stdout",
     "output_type": "stream",
     "text": [
      "[1 2 3 4 5]\n",
      "5\n",
      "int32\n",
      "(5,)\n"
     ]
    }
   ],
   "source": [
    "x = np.array([1,2,3,4,5])\n",
    "print(x)\n",
    "print(x.size)\n",
    "print(x.dtype)\n",
    "print(x.shape)"
   ]
  },
  {
   "cell_type": "code",
   "execution_count": 10,
   "id": "777f01e9",
   "metadata": {},
   "outputs": [
    {
     "name": "stdout",
     "output_type": "stream",
     "text": [
      "['Hello' 'World']\n",
      "<U5\n",
      "2\n",
      "(2,)\n"
     ]
    }
   ],
   "source": [
    "y = np.array(['Hello','World'])\n",
    "print(y)\n",
    "print(y.dtype)\n",
    "print(y.size)\n",
    "print(y.shape)"
   ]
  },
  {
   "cell_type": "code",
   "execution_count": 11,
   "id": "9e8b486d",
   "metadata": {},
   "outputs": [
    {
     "name": "stdout",
     "output_type": "stream",
     "text": [
      "x =  ['1' '2' 'World']\n",
      "x has dimensions: (3,)\n",
      "x is an object of type: <class 'numpy.ndarray'>\n",
      "The elements in x are of type: <U11\n"
     ]
    }
   ],
   "source": [
    "x = np.array([1, 2, 'World'])\n",
    "\n",
    "# We print information about x\n",
    "print('x = ', x)\n",
    "print('x has dimensions:', x.shape) \n",
    "print('x is an object of type:', type(x))\n",
    "print('The elements in x are of type:', x.dtype)"
   ]
  },
  {
   "cell_type": "code",
   "execution_count": 13,
   "id": "668538e6",
   "metadata": {},
   "outputs": [
    {
     "name": "stdout",
     "output_type": "stream",
     "text": [
      "The elements in x are of type: int32\n",
      "The elements in y are of type: float64\n",
      "The elements in z are of type: float64\n",
      "[1 2 3] [1. 2. 3.] [1.  2.5 4. ]\n"
     ]
    }
   ],
   "source": [
    "# We create a rank 1 ndarray that contains integers\n",
    "x = np.array([1,2,3])\n",
    "\n",
    "# We create a rank 1 ndarray that contains floats\n",
    "y = np.array([1.0,2.0,3.0])\n",
    "\n",
    "# We create a rank 1 ndarray that contains integers and floats\n",
    "z = np.array([1, 2.5, 4])\n",
    "\n",
    "# We print the dtype of each ndarray\n",
    "print('The elements in x are of type:', x.dtype)\n",
    "print('The elements in y are of type:', y.dtype)\n",
    "print('The elements in z are of type:', z.dtype)\n",
    "print(x,y,z)"
   ]
  },
  {
   "cell_type": "code",
   "execution_count": 15,
   "id": "d61e6493",
   "metadata": {},
   "outputs": [
    {
     "name": "stdout",
     "output_type": "stream",
     "text": [
      "Y = \n",
      " [[ 1  2  3]\n",
      " [ 4  5  6]\n",
      " [ 7  8  9]\n",
      " [10 11 12]]\n",
      "Y is an object of type: <class 'numpy.ndarray'>\n",
      "The elements in Y are of type: int32\n",
      "Y has dimensions: (4, 3)\n",
      "Y has a total of 12 elements\n"
     ]
    }
   ],
   "source": [
    "Y = np.array([[1,2,3],[4,5,6],[7,8,9], [10,11,12]])\n",
    "\n",
    "# We print information about Y\n",
    "print('Y = \\n', Y)\n",
    "print('Y is an object of type:', type(Y))\n",
    "print('The elements in Y are of type:', Y.dtype)\n",
    "print('Y has dimensions:', Y.shape)\n",
    "print('Y has a total of', Y.size, 'elements')"
   ]
  },
  {
   "cell_type": "code",
   "execution_count": 20,
   "id": "f28967f2",
   "metadata": {},
   "outputs": [
    {
     "name": "stdout",
     "output_type": "stream",
     "text": [
      "[1 2 3 4 5]\n"
     ]
    }
   ],
   "source": [
    "x = np.array([1,2,3,4,5])\n",
    "np.save('my_array', x)\n",
    "y = np.load('my_array.npy')\n",
    "print(y)"
   ]
  },
  {
   "cell_type": "code",
   "execution_count": 25,
   "id": "4976a77b",
   "metadata": {},
   "outputs": [
    {
     "name": "stdout",
     "output_type": "stream",
     "text": [
      "int64\n",
      "[2 4 3 3]\n"
     ]
    }
   ],
   "source": [
    "x = np.array([2.2, 4.5, 3.4, 3.6], dtype = np.int64)\n",
    "print(x.dtype)\n",
    "print(x)"
   ]
  },
  {
   "cell_type": "code",
   "execution_count": 29,
   "id": "d7b2a964",
   "metadata": {},
   "outputs": [
    {
     "name": "stdout",
     "output_type": "stream",
     "text": [
      "[0 0 0 0 0]\n"
     ]
    }
   ],
   "source": [
    "x = np.zeros(5, dtype = np.int64)\n",
    "print(x)"
   ]
  },
  {
   "cell_type": "code",
   "execution_count": 35,
   "id": "2faddf87",
   "metadata": {},
   "outputs": [
    {
     "name": "stdout",
     "output_type": "stream",
     "text": [
      "[[1. 1. 1.]\n",
      " [1. 1. 1.]\n",
      " [1. 1. 1.]\n",
      " [1. 1. 1.]]\n",
      "12\n",
      "(4, 3)\n"
     ]
    }
   ],
   "source": [
    "x = np.ones((4,3))\n",
    "print(x)\n",
    "print(x.size)\n",
    "print(x.shape)"
   ]
  },
  {
   "cell_type": "code",
   "execution_count": 36,
   "id": "24812f45",
   "metadata": {},
   "outputs": [
    {
     "name": "stdout",
     "output_type": "stream",
     "text": [
      "[[5 5 5]\n",
      " [5 5 5]\n",
      " [5 5 5]\n",
      " [5 5 5]]\n"
     ]
    }
   ],
   "source": [
    "x = np.full((4,3),5)\n",
    "print(x)"
   ]
  },
  {
   "cell_type": "code",
   "execution_count": 37,
   "id": "95d7b9b8",
   "metadata": {},
   "outputs": [
    {
     "name": "stdout",
     "output_type": "stream",
     "text": [
      "[[10  0  0]\n",
      " [ 0 20  0]\n",
      " [ 0  0 50]]\n"
     ]
    }
   ],
   "source": [
    "x = np.diag([10,20,50])\n",
    "print(x)"
   ]
  },
  {
   "cell_type": "code",
   "execution_count": 38,
   "id": "07d988dc",
   "metadata": {},
   "outputs": [
    {
     "name": "stdout",
     "output_type": "stream",
     "text": [
      "[ 0  2  4  6  8 10 12 14 16 18]\n"
     ]
    }
   ],
   "source": [
    "x = np.arange(0,20,2)\n",
    "print(x)"
   ]
  },
  {
   "cell_type": "code",
   "execution_count": 44,
   "id": "6bcede8f",
   "metadata": {},
   "outputs": [
    {
     "name": "stdout",
     "output_type": "stream",
     "text": [
      "[ 0.   2.5  5.   7.5 10.  12.5 15.  17.5 20.  22.5]\n"
     ]
    }
   ],
   "source": [
    "x = np.linspace(0,25,10,endpoint = False)\n",
    "print(x)"
   ]
  },
  {
   "cell_type": "code",
   "execution_count": 49,
   "id": "df388af6",
   "metadata": {},
   "outputs": [
    {
     "name": "stdout",
     "output_type": "stream",
     "text": [
      "[[ 9 10]\n",
      " [ 8  5]\n",
      " [ 7  7]]\n"
     ]
    }
   ],
   "source": [
    "x = np.random.randint(4,15, (3,2))\n",
    "print(x)"
   ]
  },
  {
   "cell_type": "code",
   "execution_count": 6,
   "id": "27e12c13",
   "metadata": {},
   "outputs": [
    {
     "name": "stdout",
     "output_type": "stream",
     "text": [
      "[[ 0.27988868  0.29621646  0.06120259 ...  0.07834562  0.00374112\n",
      "   0.05460639]\n",
      " [ 0.03816514 -0.16610592  0.08651033 ... -0.20355022  0.07048734\n",
      "  -0.33818372]\n",
      " [-0.08206004  0.02091043  0.04468799 ... -0.09169479  0.07269304\n",
      "   0.01169333]\n",
      " ...\n",
      " [-0.09531485  0.06896783  0.12419987 ... -0.04287556  0.09193854\n",
      "  -0.01508898]\n",
      " [-0.06173691  0.09592954 -0.04787285 ...  0.15013327  0.04958181\n",
      "   0.10795118]\n",
      " [ 0.15257469 -0.0778833  -0.0863149  ...  0.02247301 -0.02011413\n",
      "   0.1490841 ]]\n"
     ]
    }
   ],
   "source": [
    "x = np.random.normal(0,0.1, size = (1000,1000))\n",
    "print(x)"
   ]
  },
  {
   "cell_type": "code",
   "execution_count": 2,
   "id": "d735ab9c",
   "metadata": {},
   "outputs": [],
   "source": [
    "x = np.array([1,2,3,4,5])\n"
   ]
  },
  {
   "cell_type": "code",
   "execution_count": 3,
   "id": "b2f90a78",
   "metadata": {},
   "outputs": [
    {
     "name": "stdout",
     "output_type": "stream",
     "text": [
      "Shape of X is:  (50, 5)\n",
      "[[18 19 10  8 13]\n",
      " [17  1 14  6 19]\n",
      " [ 2  6 11  6 15]\n",
      " [10  9 12 12  4]\n",
      " [11 14  6  8 11]\n",
      " [ 6 16 18  9 12]\n",
      " [ 4  3  5  6  7]\n",
      " [ 9 13 18  6 15]\n",
      " [ 8  9  7  1 13]\n",
      " [18 13  7  5 13]\n",
      " [12  7 17 17 16]\n",
      " [ 5  1 17 19 15]\n",
      " [14 16  8 18 12]\n",
      " [12  7  1  6 18]\n",
      " [10  3 13  9 12]\n",
      " [10  1  2 14  8]\n",
      " [ 1 19 17  3 18]\n",
      " [19 17 11  8 17]\n",
      " [17  7 15  7  8]\n",
      " [ 8  9  9  5  6]\n",
      " [17  4 12  6  5]\n",
      " [ 6 17  3  6  3]\n",
      " [ 4 18  7 11 18]\n",
      " [ 2 15  1 14 19]\n",
      " [ 8  1  6 16  2]\n",
      " [ 8 19 16  5  4]\n",
      " [19  1 16 16 15]\n",
      " [15  4  2 16 14]\n",
      " [ 4  5 10  3 12]\n",
      " [ 6  2  9  3  4]\n",
      " [18  4 14 17 15]\n",
      " [ 6  4 19 15 13]\n",
      " [ 6  4  8 10 11]\n",
      " [ 1  7 11 19 17]\n",
      " [ 9 11  5  7 11]\n",
      " [18 17 15  6 19]\n",
      " [18  4  6  3  2]\n",
      " [ 9  7  7  7  8]\n",
      " [18  6 15  5 13]\n",
      " [ 9  2 18  1  6]\n",
      " [ 9  7 18  3  1]\n",
      " [ 9 18  2 18 17]\n",
      " [ 9  1 16  2 17]\n",
      " [ 4 16  2  6 14]\n",
      " [ 5 10  2 11 16]\n",
      " [ 2  3  8 15  4]\n",
      " [ 7  9  9 15  5]\n",
      " [ 4 11 16 13  8]\n",
      " [12 10 18  3 14]\n",
      " [ 5 19 18  1 16]]\n"
     ]
    }
   ],
   "source": [
    "X = np.random.randint(1,20, size=(50,5))\n",
    "print(\"Shape of X is: \", X.shape)\n",
    "print(X)"
   ]
  },
  {
   "cell_type": "code",
   "execution_count": 4,
   "id": "c39d4793",
   "metadata": {},
   "outputs": [
    {
     "name": "stdout",
     "output_type": "stream",
     "text": [
      "Random 10 indices are:  [38 16 18 35 28 15  9 16 20 36]\n"
     ]
    }
   ],
   "source": [
    "row_indices = np.random.randint(0,50, size=10)\n",
    "print(\"Random 10 indices are: \", row_indices)\n"
   ]
  },
  {
   "cell_type": "code",
   "execution_count": 5,
   "id": "bf459c85",
   "metadata": {},
   "outputs": [
    {
     "name": "stdout",
     "output_type": "stream",
     "text": [
      "[[18  6 15  5 13]\n",
      " [ 1 19 17  3 18]\n",
      " [17  7 15  7  8]\n",
      " [18 17 15  6 19]\n",
      " [ 4  5 10  3 12]\n",
      " [10  1  2 14  8]\n",
      " [18 13  7  5 13]\n",
      " [ 1 19 17  3 18]\n",
      " [17  4 12  6  5]\n",
      " [18  4  6  3  2]]\n"
     ]
    }
   ],
   "source": [
    "X_subset = X[row_indices, :]\n",
    "print(X_subset)"
   ]
  },
  {
   "cell_type": "code",
   "execution_count": 6,
   "id": "333a7b2c",
   "metadata": {},
   "outputs": [
    {
     "name": "stdout",
     "output_type": "stream",
     "text": [
      "[[ 4  5 10  3 12]\n",
      " [10  1  2 14  8]\n",
      " [18 13  7  5 13]\n",
      " [ 1 19 17  3 18]]\n"
     ]
    }
   ],
   "source": [
    "X_subset = X[row_indices[4:8], :]\n",
    "print(X_subset)\n"
   ]
  },
  {
   "cell_type": "code",
   "execution_count": null,
   "id": "8e4663ba",
   "metadata": {},
   "outputs": [],
   "source": []
  }
 ],
 "metadata": {
  "kernelspec": {
   "display_name": "Python 3 (ipykernel)",
   "language": "python",
   "name": "python3"
  },
  "language_info": {
   "codemirror_mode": {
    "name": "ipython",
    "version": 3
   },
   "file_extension": ".py",
   "mimetype": "text/x-python",
   "name": "python",
   "nbconvert_exporter": "python",
   "pygments_lexer": "ipython3",
   "version": "3.11.5"
  }
 },
 "nbformat": 4,
 "nbformat_minor": 5
}
